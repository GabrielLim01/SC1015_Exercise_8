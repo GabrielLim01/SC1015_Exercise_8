{
 "cells": [
  {
   "cell_type": "code",
   "execution_count": 4,
   "id": "b3516fcf",
   "metadata": {},
   "outputs": [],
   "source": [
    "import copy"
   ]
  },
  {
   "cell_type": "code",
   "execution_count": 5,
   "id": "efaa5eb4",
   "metadata": {},
   "outputs": [],
   "source": [
    "FARMER = 0\n",
    "WOLF = 1\n",
    "GOAT = 2\n",
    "CABBAGE = 3\n",
    "\n",
    "START_STATE = ['L','L','L','L']\n",
    "\n",
    "def wolfRule(state):\n",
    "    return state[FARMER] == state[WOLF] or state[WOLF] != state[GOAT]\n",
    "\n",
    "assert( wolfRule(['L','L','L','L']) == True)\n",
    "assert( wolfRule(['R','L','L','L']) == False)\n",
    "assert( wolfRule(['R','L','R','L']) == True)\n",
    "\n",
    "def goatRule(state):\n",
    "    return state[FARMER] == state[GOAT] or state[GOAT] != state[CABBAGE]\n",
    "\n",
    "assert( goatRule(['L','L','L','L']) == True)\n",
    "assert( goatRule(['R','L','L','L']) == False)\n",
    "assert( goatRule(['R','L','L','R']) == True)\n",
    "\n",
    "def validRule(state):\n",
    "    return wolfRule(state) and goatRule(state)\n",
    "\n",
    "def winRule(state):\n",
    "    return state == ['R','R','R','R']\n",
    "\n",
    "assert( winRule(['L','L','L','L']) == False)\n",
    "assert( winRule(['R','L','L','L']) == False)\n",
    "assert( winRule(['R','R','R','R']) == True)"
   ]
  },
  {
   "cell_type": "code",
   "execution_count": 6,
   "id": "8315cbeb",
   "metadata": {},
   "outputs": [
    {
     "ename": "TypeError",
     "evalue": "'module' object is not callable",
     "output_type": "error",
     "traceback": [
      "\u001b[1;31m---------------------------------------------------------------------------\u001b[0m",
      "\u001b[1;31mTypeError\u001b[0m                                 Traceback (most recent call last)",
      "Cell \u001b[1;32mIn[6], line 10\u001b[0m\n\u001b[0;32m      7\u001b[0m             move[other] \u001b[38;5;241m=\u001b[39m \u001b[38;5;124m'\u001b[39m\u001b[38;5;124mL\u001b[39m\u001b[38;5;124m'\u001b[39m \u001b[38;5;28;01mif\u001b[39;00m state[other] \u001b[38;5;241m==\u001b[39m \u001b[38;5;124m'\u001b[39m\u001b[38;5;124mR\u001b[39m\u001b[38;5;124m'\u001b[39m \u001b[38;5;28;01melse\u001b[39;00m \u001b[38;5;124m'\u001b[39m\u001b[38;5;124mR\u001b[39m\u001b[38;5;124m'\u001b[39m\n\u001b[0;32m      8\u001b[0m             \u001b[38;5;28;01myield\u001b[39;00m move\n\u001b[1;32m---> 10\u001b[0m \u001b[38;5;28;01massert\u001b[39;00m( \u001b[38;5;28mlist\u001b[39m(generateMoves(START_STATE)) \u001b[38;5;241m==\u001b[39m [[\u001b[38;5;124m'\u001b[39m\u001b[38;5;124mR\u001b[39m\u001b[38;5;124m'\u001b[39m,\u001b[38;5;124m'\u001b[39m\u001b[38;5;124mL\u001b[39m\u001b[38;5;124m'\u001b[39m,\u001b[38;5;124m'\u001b[39m\u001b[38;5;124mL\u001b[39m\u001b[38;5;124m'\u001b[39m,\u001b[38;5;124m'\u001b[39m\u001b[38;5;124mL\u001b[39m\u001b[38;5;124m'\u001b[39m],[\u001b[38;5;124m'\u001b[39m\u001b[38;5;124mR\u001b[39m\u001b[38;5;124m'\u001b[39m,\u001b[38;5;124m'\u001b[39m\u001b[38;5;124mR\u001b[39m\u001b[38;5;124m'\u001b[39m,\u001b[38;5;124m'\u001b[39m\u001b[38;5;124mL\u001b[39m\u001b[38;5;124m'\u001b[39m,\u001b[38;5;124m'\u001b[39m\u001b[38;5;124mL\u001b[39m\u001b[38;5;124m'\u001b[39m],[\u001b[38;5;124m'\u001b[39m\u001b[38;5;124mR\u001b[39m\u001b[38;5;124m'\u001b[39m,\u001b[38;5;124m'\u001b[39m\u001b[38;5;124mL\u001b[39m\u001b[38;5;124m'\u001b[39m,\u001b[38;5;124m'\u001b[39m\u001b[38;5;124mR\u001b[39m\u001b[38;5;124m'\u001b[39m,\u001b[38;5;124m'\u001b[39m\u001b[38;5;124mL\u001b[39m\u001b[38;5;124m'\u001b[39m],[\u001b[38;5;124m'\u001b[39m\u001b[38;5;124mR\u001b[39m\u001b[38;5;124m'\u001b[39m,\u001b[38;5;124m'\u001b[39m\u001b[38;5;124mL\u001b[39m\u001b[38;5;124m'\u001b[39m,\u001b[38;5;124m'\u001b[39m\u001b[38;5;124mL\u001b[39m\u001b[38;5;124m'\u001b[39m,\u001b[38;5;124m'\u001b[39m\u001b[38;5;124mR\u001b[39m\u001b[38;5;124m'\u001b[39m]]  )\n",
      "Cell \u001b[1;32mIn[6], line 5\u001b[0m, in \u001b[0;36mgenerateMoves\u001b[1;34m(state)\u001b[0m\n\u001b[0;32m      3\u001b[0m \u001b[38;5;28;01mfor\u001b[39;00m other \u001b[38;5;129;01min\u001b[39;00m [FARMER, WOLF, GOAT, CABBAGE]:\n\u001b[0;32m      4\u001b[0m     \u001b[38;5;28;01mif\u001b[39;00m state[FARMER] \u001b[38;5;241m==\u001b[39m state[other]:\n\u001b[1;32m----> 5\u001b[0m         move \u001b[38;5;241m=\u001b[39m copy(state)\n\u001b[0;32m      6\u001b[0m         move[FARMER] \u001b[38;5;241m=\u001b[39m \u001b[38;5;124m'\u001b[39m\u001b[38;5;124mL\u001b[39m\u001b[38;5;124m'\u001b[39m \u001b[38;5;28;01mif\u001b[39;00m state[FARMER] \u001b[38;5;241m==\u001b[39m \u001b[38;5;124m'\u001b[39m\u001b[38;5;124mR\u001b[39m\u001b[38;5;124m'\u001b[39m \u001b[38;5;28;01melse\u001b[39;00m \u001b[38;5;124m'\u001b[39m\u001b[38;5;124mR\u001b[39m\u001b[38;5;124m'\u001b[39m\n\u001b[0;32m      7\u001b[0m         move[other] \u001b[38;5;241m=\u001b[39m \u001b[38;5;124m'\u001b[39m\u001b[38;5;124mL\u001b[39m\u001b[38;5;124m'\u001b[39m \u001b[38;5;28;01mif\u001b[39;00m state[other] \u001b[38;5;241m==\u001b[39m \u001b[38;5;124m'\u001b[39m\u001b[38;5;124mR\u001b[39m\u001b[38;5;124m'\u001b[39m \u001b[38;5;28;01melse\u001b[39;00m \u001b[38;5;124m'\u001b[39m\u001b[38;5;124mR\u001b[39m\u001b[38;5;124m'\u001b[39m\n",
      "\u001b[1;31mTypeError\u001b[0m: 'module' object is not callable"
     ]
    }
   ],
   "source": [
    "def generateMoves(state):\n",
    "    # The farmer moves to the other side and can bring 0 or 1 other things so long as it is on the same starting side\n",
    "    for other in [FARMER, WOLF, GOAT, CABBAGE]:\n",
    "        if state[FARMER] == state[other]:\n",
    "            move = copy(state)\n",
    "            move[FARMER] = 'L' if state[FARMER] == 'R' else 'R'\n",
    "            move[other] = 'L' if state[other] == 'R' else 'R'\n",
    "            yield move\n",
    "\n",
    "assert( list(generateMoves(START_STATE)) == [['R','L','L','L'],['R','R','L','L'],['R','L','R','L'],['R','L','L','R']]  )"
   ]
  },
  {
   "cell_type": "code",
   "execution_count": null,
   "id": "715ff552",
   "metadata": {},
   "outputs": [],
   "source": [
    "def validMoves(state_list):\n",
    "    return [ state for state in state_list if validRule(state)]\n",
    "\n",
    "assert( list(validMoves(generateMoves(START_STATE))) == [['R','L','R','L']]  )"
   ]
  },
  {
   "cell_type": "markdown",
   "id": "75e375fb",
   "metadata": {},
   "source": [
    "## Depth First Search"
   ]
  },
  {
   "cell_type": "code",
   "execution_count": null,
   "id": "97d79b86",
   "metadata": {},
   "outputs": [],
   "source": [
    "def depthFirstSearch(state, previous_states):\n",
    "    previous_states.append(state)\n",
    "    if winRule(state):\n",
    "        return previous_states\n",
    "    for move in validMoves(generateMoves(state)):\n",
    "        if move not in previous_states:\n",
    "            result = depthFirstSearch(move, previous_states)\n",
    "            if result is not None:\n",
    "                return result\n",
    "            previous_states.pop()\n",
    "    return None"
   ]
  },
  {
   "cell_type": "code",
   "execution_count": null,
   "id": "52fda3f4",
   "metadata": {},
   "outputs": [],
   "source": [
    "assert( depthFirstSearch(['L','R','L','R'],[]) == [['L','R','L','R'],['R','R','R','R']]  )"
   ]
  },
  {
   "cell_type": "code",
   "execution_count": null,
   "id": "7f3cf0f4",
   "metadata": {},
   "outputs": [],
   "source": [
    "depthFirstSearch(START_STATE,[])"
   ]
  }
 ],
 "metadata": {
  "kernelspec": {
   "display_name": "Python 3 (ipykernel)",
   "language": "python",
   "name": "python3"
  },
  "language_info": {
   "codemirror_mode": {
    "name": "ipython",
    "version": 3
   },
   "file_extension": ".py",
   "mimetype": "text/x-python",
   "name": "python",
   "nbconvert_exporter": "python",
   "pygments_lexer": "ipython3",
   "version": "3.11.5"
  }
 },
 "nbformat": 4,
 "nbformat_minor": 5
}
